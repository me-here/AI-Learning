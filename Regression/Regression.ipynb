{
 "cells": [
  {
   "cell_type": "markdown",
   "metadata": {},
   "source": [
    "# Overview\n",
    "Regression is a supervised learning problem where we have a bunch of points that we'd like to have a line of best fit through.\n",
    "\n",
    "The line: $y=mx+b$ is the same as $y(x)=w_1x+w_2$, given the w's are parameters, y(x) is a function of x, and x is the input.\n",
    "\n",
    "With regression we are trying to minimize the parameters $w_1$ and $w_2$ using an algorithm called gradient descent.\n",
    "\n",
    "**Gradient Descent** is an iterative algorithm that will bring you a little bit closer to your minimimum parameters using the partial derivative (gradient) of the **cost function**, which indicates how much error you've made in your generalization.\n",
    "\n",
    "![Gradient Descent](https://qph.fs.quoracdn.net/main-qimg-25913bb0aa0193a5885640a64e8d490f)\n",
    "\n",
    "There are multiple forms of the Gradient Descent algorithm, including but not limited to:\n",
    "- **Stochastic GD** --> where we choose one point at which we find the gradient and descend\n",
    "- **Batch GD** --> where we calculate the gradient at all inputs of the dataset to descend\n",
    "- **Mini-Batch GD** --> like Batch GD, except we divide the inputs into chunks and descend one step at a time for each chunk\n",
    "\n",
    "But we're getting ahead of ourselves! Let's look at the problem at hand!\n",
    "\n",
    "# The Problem"
   ]
  },
  {
   "cell_type": "code",
   "execution_count": 41,
   "metadata": {},
   "outputs": [
    {
     "data": {
      "image/png": "[encoded data removed]",
      "text/plain": [
       "<Figure size 432x288 with 1 Axes>"
      ]
     },
     "metadata": {},
     "output_type": "display_data"
    }
   ],
   "source": [
    "import matplotlib.pyplot as plt\n",
    "# input & output\n",
    "x = [10.30, 10.30, 10.10, 9.30, 8.40, 7.30, 8.40, 7.90, 7.60, 7.60, 6.90, 7.40, 8.10, 7.00, 6.50, 5.80] # Interest Rate\n",
    "y = [183800, 183200, 174900, 173500, 172900, 173200, 173200, 169700, 174500, 177900, 188100, 203200, 230200, 258200, 309800, 329800] # Median Home Price\n",
    "\n",
    "#plot each data point \n",
    "[plt.plot(x[i], y[i], 'bo') for i in range(0,len(x)-1)]\n",
    "\n",
    "plt.xlabel(\"Interest Rate\")\n",
    "plt.ylabel(\"Median Home Price\")\n",
    "plt.title(\"Home Prices given Interest Rates\")\n",
    "plt.show()"
   ]
  },
  {
   "cell_type": "markdown",
   "metadata": {
    "collapsed": true
   },
   "source": [
    "Above we have a graph of some home prices given interest rates. We want to find a function such that, given a new interest rate, we will be able to tell the home price.\n",
    "\n",
    "**How would we do this?** We'd recognize this to be a regression problem, meaning we could use different functions to approximate our house prices. Two such functions are lines(linear regression) and logarithms(logistic regression) Let's take a look at how this works!\n",
    "\n",
    "# Cost Function\n",
    "<img src = \"https://upload.wikimedia.org/wikipedia/commons/e/ed/Residuals_for_Linear_Regression_Fit.png\" width = \"400\"/>\n",
    "To evaluate how good/bad our parameters $w_1$ and $w_2$ in $y(x)=w_1x+w_2$.\n",
    "We can use **residuals**(differences in y-values between our approximation's y-value and the dataset's y-value) to define a function as follows:\n",
    "\n",
    "$J(w) = \\frac{1}{n} \\sum\\limits_{1}^n (\\hat{y} - y)^2$\n",
    "\n",
    "where $J(w)$ is our cost function, $n$ is the number of data points in our data set, $y$ is our actual y-value, and $\\hat{y}$ is our predicted y-value according to our approximation.\n",
    "\n",
    "The summation is squared because the actual data points can be above or below the prediction y-value, so their differences can be positive or negative. Since we don't discriminate whether the predictions are above or below, squaring gives us an absolute value. It also increases the effect our cost function will have on our prediction.\n",
    "\n",
    "This cost function takes the average of the squares of the differences between our prediction and the actual values, making it use the **Mean Squared Error** algorithm, but we could do without taking the average and the function would be using **Ordinary Least Squares**.\n",
    "\n",
    "Our goal now is to minimize this cost function.\n",
    "\n",
    "# Gradient Descent\n",
    "The **Gradient Descent** algorithm finds the minimum by iterative steps. Think of it like rolling a ball down a valley.\n",
    "![Gradient Descent](https://qph.fs.quoracdn.net/main-qimg-25913bb0aa0193a5885640a64e8d490f)\n",
    "The **gradient** is the partial derivative, which is like the derivative (instantaneous rate of change), except you only find it with respect to one variable. That is, all other variables are treated as constants.\n",
    "\n",
    "To begin, we choose a random positive x-value in our dataset (all our data is positive), at which we compute the **gradient**. Given a positive x-value, we will have to move in the direction opposite to the gradient, because the gradient will point diagonally upwards, and we want to go diagonally down until we reach the minimum. The equation is as follows:\n",
    "\n",
    "$G = \\frac{\\partial J}{\\partial w}$ \n",
    "\n",
    "Above, $G$ is the partial derivative of the cost function $J$ with respect to $w$.\n",
    "\n",
    "## Iteration Step\n",
    "$w = w - n*G$\n",
    "\n",
    "$w$ denotes either of our weights (parameters), $G$ is our gradient, and $n$ is our **learning rate**.\n",
    "\n",
    "The **learning rate** tells us how large of a step we will take upon each iteration to descend to the minimum.\n",
    "Be careful, as the **learning rate** chosen greatly affects our model's accuracy.\n",
    "\n",
    "- If the **learning rate** is too low, the algorithm could take too long to converge to a minimum.\n",
    "- If the **learning rate** is too high, it could overshoot the minimum, since the iteration step would be too large.\n",
    "\n",
    "Use trial-and-error to figure out what learning rate is suitable for the situation at hand.\n",
    "\n",
    "# The Code"
   ]
  },
  {
   "cell_type": "code",
   "execution_count": 8,
   "metadata": {},
   "outputs": [
    {
     "data": {
      "image/png": "[encoded data removed]",
      "text/plain": [
       "<Figure size 432x288 with 1 Axes>"
      ]
     },
     "metadata": {},
     "output_type": "display_data"
    },
    {
     "name": "stdout",
     "output_type": "stream",
     "text": [
      "2 4\n",
      "17283756.83456183 17283758.83456183\n",
      "10884735746039.186 10884735746041.186\n",
      "4.327204536997972e+24 4.327204536997972e+24\n",
      "6.838903774683517e+47 6.838903774683517e+47\n",
      "1.7082232626883095e+94 1.7082232626883095e+94\n",
      "1.0657636635555376e+187 1.0657636635555376e+187\n"
     ]
    },
    {
     "ename": "OverflowError",
     "evalue": "(34, 'Result too large')",
     "output_type": "error",
     "traceback": [
      "\u001b[0;31m---------------------------------------------------------------------------\u001b[0m",
      "\u001b[0;31mOverflowError\u001b[0m                             Traceback (most recent call last)",
      "\u001b[0;32m<ipython-input-8-7b99f6583d29>\u001b[0m in \u001b[0;36m<module>\u001b[0;34m()\u001b[0m\n\u001b[1;32m     42\u001b[0m     \u001b[0;32mreturn\u001b[0m \u001b[0mb\u001b[0m\u001b[0;34m,\u001b[0m\u001b[0mm\u001b[0m\u001b[0;34m\u001b[0m\u001b[0m\n\u001b[1;32m     43\u001b[0m \u001b[0;34m\u001b[0m\u001b[0m\n\u001b[0;32m---> 44\u001b[0;31m \u001b[0mrun_descent\u001b[0m\u001b[0;34m(\u001b[0m\u001b[0mx\u001b[0m\u001b[0;34m,\u001b[0m \u001b[0my\u001b[0m\u001b[0;34m,\u001b[0m \u001b[0;36m2\u001b[0m\u001b[0;34m,\u001b[0m \u001b[0;36m4\u001b[0m\u001b[0;34m,\u001b[0m \u001b[0;36m100\u001b[0m\u001b[0;34m)\u001b[0m\u001b[0;34m\u001b[0m\u001b[0m\n\u001b[0m\u001b[1;32m     45\u001b[0m \u001b[0merror_given_line\u001b[0m\u001b[0;34m(\u001b[0m\u001b[0;36m2\u001b[0m\u001b[0;34m,\u001b[0m\u001b[0;36m4\u001b[0m\u001b[0;34m,\u001b[0m\u001b[0mx\u001b[0m\u001b[0;34m,\u001b[0m\u001b[0my\u001b[0m\u001b[0;34m)\u001b[0m\u001b[0;34m\u001b[0m\u001b[0m\n",
      "\u001b[0;32m<ipython-input-8-7b99f6583d29>\u001b[0m in \u001b[0;36mrun_descent\u001b[0;34m(x_values, y_values, starting_b, starting_m, num_iterations)\u001b[0m\n\u001b[1;32m     27\u001b[0m     \u001b[0mm\u001b[0m \u001b[0;34m=\u001b[0m \u001b[0mstarting_m\u001b[0m\u001b[0;34m\u001b[0m\u001b[0m\n\u001b[1;32m     28\u001b[0m     \u001b[0;32mfor\u001b[0m \u001b[0mi\u001b[0m \u001b[0;32min\u001b[0m \u001b[0mrange\u001b[0m\u001b[0;34m(\u001b[0m\u001b[0mnum_iterations\u001b[0m\u001b[0;34m)\u001b[0m\u001b[0;34m:\u001b[0m\u001b[0;34m\u001b[0m\u001b[0m\n\u001b[0;32m---> 29\u001b[0;31m         \u001b[0mb\u001b[0m\u001b[0;34m,\u001b[0m \u001b[0mm\u001b[0m \u001b[0;34m=\u001b[0m \u001b[0mstep_gradient\u001b[0m\u001b[0;34m(\u001b[0m\u001b[0mb\u001b[0m\u001b[0;34m,\u001b[0m \u001b[0mm\u001b[0m\u001b[0;34m,\u001b[0m \u001b[0mx_values\u001b[0m\u001b[0;34m,\u001b[0m \u001b[0my_values\u001b[0m\u001b[0;34m)\u001b[0m\u001b[0;34m\u001b[0m\u001b[0m\n\u001b[0m\u001b[1;32m     30\u001b[0m     \u001b[0;32mreturn\u001b[0m \u001b[0;34m[\u001b[0m\u001b[0mb\u001b[0m\u001b[0;34m,\u001b[0m\u001b[0mm\u001b[0m\u001b[0;34m]\u001b[0m\u001b[0;34m\u001b[0m\u001b[0m\n\u001b[1;32m     31\u001b[0m \u001b[0;34m\u001b[0m\u001b[0m\n",
      "\u001b[0;32m<ipython-input-8-7b99f6583d29>\u001b[0m in \u001b[0;36mstep_gradient\u001b[0;34m(b, m, x_values, y_values)\u001b[0m\n\u001b[1;32m     35\u001b[0m     \u001b[0;31m# Calculate gradient\u001b[0m\u001b[0;34m\u001b[0m\u001b[0;34m\u001b[0m\u001b[0m\n\u001b[1;32m     36\u001b[0m     \u001b[0mk\u001b[0m \u001b[0;34m=\u001b[0m \u001b[0mlen\u001b[0m\u001b[0;34m(\u001b[0m\u001b[0mx_values\u001b[0m\u001b[0;34m)\u001b[0m\u001b[0;34m\u001b[0m\u001b[0m\n\u001b[0;32m---> 37\u001b[0;31m     \u001b[0merror\u001b[0m \u001b[0;34m=\u001b[0m \u001b[0merror_given_line\u001b[0m\u001b[0;34m(\u001b[0m\u001b[0mm\u001b[0m\u001b[0;34m,\u001b[0m \u001b[0mb\u001b[0m\u001b[0;34m,\u001b[0m \u001b[0mx_values\u001b[0m\u001b[0;34m,\u001b[0m \u001b[0my_values\u001b[0m\u001b[0;34m)\u001b[0m\u001b[0;34m\u001b[0m\u001b[0m\n\u001b[0m\u001b[1;32m     38\u001b[0m     \u001b[0;31m# Product Rule\u001b[0m\u001b[0;34m\u001b[0m\u001b[0;34m\u001b[0m\u001b[0m\n\u001b[1;32m     39\u001b[0m     \u001b[0mgradient\u001b[0m \u001b[0;34m=\u001b[0m \u001b[0;34m-\u001b[0m\u001b[0;36m1\u001b[0m\u001b[0;34m/\u001b[0m\u001b[0;34m(\u001b[0m\u001b[0mk\u001b[0m\u001b[0;34m**\u001b[0m\u001b[0;36m2\u001b[0m\u001b[0;34m)\u001b[0m \u001b[0;34m*\u001b[0m \u001b[0merror\u001b[0m \u001b[0;34m+\u001b[0m \u001b[0;34m(\u001b[0m\u001b[0;36m1\u001b[0m\u001b[0;34m/\u001b[0m\u001b[0mk\u001b[0m\u001b[0;34m)\u001b[0m \u001b[0;34m*\u001b[0m \u001b[0;36m2\u001b[0m \u001b[0;34m*\u001b[0m \u001b[0;34m(\u001b[0m\u001b[0merror\u001b[0m\u001b[0;34m**\u001b[0m\u001b[0;34m(\u001b[0m\u001b[0;36m1\u001b[0m\u001b[0;34m/\u001b[0m\u001b[0;36m2\u001b[0m\u001b[0;34m)\u001b[0m\u001b[0;34m)\u001b[0m \u001b[0;34m*\u001b[0m \u001b[0mk\u001b[0m\u001b[0;34m\u001b[0m\u001b[0m\n",
      "\u001b[0;32m<ipython-input-8-7b99f6583d29>\u001b[0m in \u001b[0;36merror_given_line\u001b[0;34m(m, b, x_values, y_values)\u001b[0m\n\u001b[1;32m     19\u001b[0m         \u001b[0mpredicted_y\u001b[0m \u001b[0;34m=\u001b[0m \u001b[0mm\u001b[0m \u001b[0;34m*\u001b[0m \u001b[0mi\u001b[0m \u001b[0;34m+\u001b[0m \u001b[0mb\u001b[0m \u001b[0;31m# linear equation\u001b[0m\u001b[0;34m\u001b[0m\u001b[0m\n\u001b[1;32m     20\u001b[0m         \u001b[0mactual_y\u001b[0m \u001b[0;34m=\u001b[0m \u001b[0my_values\u001b[0m\u001b[0;34m[\u001b[0m\u001b[0mi\u001b[0m\u001b[0;34m]\u001b[0m\u001b[0;34m\u001b[0m\u001b[0m\n\u001b[0;32m---> 21\u001b[0;31m         \u001b[0merror\u001b[0m \u001b[0;34m+=\u001b[0m \u001b[0;34m(\u001b[0m\u001b[0mpredicted_y\u001b[0m \u001b[0;34m-\u001b[0m \u001b[0mactual_y\u001b[0m\u001b[0;34m)\u001b[0m \u001b[0;34m**\u001b[0m \u001b[0;36m2\u001b[0m \u001b[0;31m# squared error\u001b[0m\u001b[0;34m\u001b[0m\u001b[0m\n\u001b[0m\u001b[1;32m     22\u001b[0m     \u001b[0merror\u001b[0m \u001b[0;34m/=\u001b[0m \u001b[0mlen\u001b[0m\u001b[0;34m(\u001b[0m\u001b[0mx_values\u001b[0m\u001b[0;34m)\u001b[0m\u001b[0;34m\u001b[0m\u001b[0m\n\u001b[1;32m     23\u001b[0m     \u001b[0;32mreturn\u001b[0m \u001b[0merror\u001b[0m\u001b[0;34m\u001b[0m\u001b[0m\n",
      "\u001b[0;31mOverflowError\u001b[0m: (34, 'Result too large')"
     ]
    }
   ],
   "source": [
    "import matplotlib.pyplot as plt\n",
    "\n",
    "# input & output\n",
    "x = [10.30, 10.30, 10.10, 9.30, 8.40, 7.30, 8.40, 7.90, 7.60, 7.60, 6.90, 7.40, 8.10, 7.00, 6.50, 5.80] # Interest Rate\n",
    "y = [183800, 183200, 174900, 173500, 172900, 173200, 173200, 169700, 174500, 177900, 188100, 203200, 230200, 258200, 309800, 329800] # Median Home Price\n",
    "\n",
    "#plot each data point \n",
    "[plt.plot(x[i], y[i], 'bo') for i in range(0,len(x))]\n",
    "\n",
    "plt.xlabel(\"Interest Rate\")\n",
    "plt.ylabel(\"Median Home Price\")\n",
    "plt.title(\"Home Prices given Interest Rates\")\n",
    "plt.show()\n",
    "\n",
    "\n",
    "def error_given_line(m, b, x_values, y_values):\n",
    "    error = 0\n",
    "    for i in range(0, len(x_values)):\n",
    "        predicted_y = m * i + b # linear equation\n",
    "        actual_y = y_values[i]\n",
    "        error += (predicted_y - actual_y) ** 2 # squared error\n",
    "    error /= len(x_values)\n",
    "    return error\n",
    "\n",
    "def run_descent(x_values, y_values, starting_b, starting_m, num_iterations):\n",
    "    b = starting_b\n",
    "    m = starting_m\n",
    "    for i in range(num_iterations):\n",
    "        b, m = step_gradient(b, m, x_values, y_values)\n",
    "    return [b,m]\n",
    "\n",
    "def step_gradient(b, m, x_values, y_values):\n",
    "    learning_rate = 0.1\n",
    "    print(b, m)\n",
    "    # Calculate gradient\n",
    "    k = len(x_values)\n",
    "    error = error_given_line(m, b, x_values, y_values)\n",
    "    # Product Rule\n",
    "    gradient = -1/(k**2) * error + (1/k) * 2 * (error**(1/2)) * k\n",
    "    b = b - learning_rate * gradient\n",
    "    m = m - learning_rate * gradient\n",
    "    return b,m\n",
    "\n",
    "run_descent(x, y, 2, 4, 100)\n",
    "error_given_line(2,4,x,y)"
   ]
  },
  {
   "cell_type": "markdown",
   "metadata": {},
   "source": [
    "## References\n",
    "1. https://journalistsresource.org/wp-content/uploads/2014/11/Sample-data-sets-for-linear-regression1.xlsx for sample data"
   ]
  }
 ],
 "metadata": {
  "kernelspec": {
   "display_name": "Python 3",
   "language": "python",
   "name": "python3"
  },
  "language_info": {
   "codemirror_mode": {
    "name": "ipython",
    "version": 3
   },
   "file_extension": ".py",
   "mimetype": "text/x-python",
   "name": "python",
   "nbconvert_exporter": "python",
   "pygments_lexer": "ipython3",
   "version": "3.6.2"
  }
 },
 "nbformat": 4,
 "nbformat_minor": 2
}
