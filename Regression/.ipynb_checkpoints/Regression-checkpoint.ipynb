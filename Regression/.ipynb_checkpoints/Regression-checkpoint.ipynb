{
 "cells": [
  {
   "cell_type": "markdown",
   "metadata": {},
   "source": [
    "# Overview\n",
    "Regression is a supervised learning problem where we have a bunch of points that we'd like to have a line of best fit through.\n",
    "\n",
    "The line: $y=mx+b$ is the same as $y(x)=w_1x+w_2$, given the w's are parameters, y(x) is a function of x, and x is the input.\n",
    "\n",
    "With regression we are trying to minimize the parameters $w_1$ and $w_2$ using an algorithm called gradient descent.\n",
    "\n",
    "Gradient Descent is an iterative algorithm that will bring you a little bit closer to your minimimum parameters using the partial derivative (gradient).\n",
    "\n",
    "![Gradient Descent](https://qph.fs.quoracdn.net/main-qimg-25913bb0aa0193a5885640a64e8d490f)\n",
    "\n",
    "There are multiple forms of the Gradient Descent algorithm, including but not limited to:\n",
    "- **Stochastic GD** --> where we choose one point at which we find the gradient and descend\n",
    "- **Batch GD** --> where we calculate the gradient at all inputs of the dataset to descend\n",
    "- **Mini-Batch GD** --> like Batch GD, except we divide the inputs into chunks and descend one step at a time for each chunk\n",
    "\n",
    "But we're getting ahead of ourselves! Let's look at the problem at hand!"
   ]
  },
  {
   "cell_type": "code",
   "execution_count": 1,
   "metadata": {},
   "outputs": [
    {
     "data": {
      "text/plain": [
       "[<matplotlib.lines.Line2D at 0x1061de400>]"
      ]
     },
     "execution_count": 1,
     "metadata": {},
     "output_type": "execute_result"
    }
   ],
   "source": [
    "import matplotlib.pyplot as plt\n",
    "plt.plot([1,2,3,4],[45,63,12,25])"
   ]
  },
  {
   "cell_type": "code",
   "execution_count": null,
   "metadata": {
    "collapsed": true
   },
   "outputs": [],
   "source": []
  }
 ],
 "metadata": {
  "kernelspec": {
   "display_name": "Python 3",
   "language": "python",
   "name": "python3"
  },
  "language_info": {
   "codemirror_mode": {
    "name": "ipython",
    "version": 3
   },
   "file_extension": ".py",
   "mimetype": "text/x-python",
   "name": "python",
   "nbconvert_exporter": "python",
   "pygments_lexer": "ipython3",
   "version": "3.6.2"
  }
 },
 "nbformat": 4,
 "nbformat_minor": 2
}
